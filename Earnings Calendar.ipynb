{
 "cells": [
  {
   "cell_type": "markdown",
   "metadata": {},
   "source": [
    "## Set Up "
   ]
  },
  {
   "cell_type": "code",
   "execution_count": null,
   "metadata": {},
   "outputs": [],
   "source": [
    "from yahoo_earnings_calendar import YahooEarningsCalendar\n",
    "from datetime import datetime\n",
    "from datetime import timedelta\n",
    "import pandas as pd\n",
    "from ics import Calendar, Event"
   ]
  },
  {
   "cell_type": "code",
   "execution_count": null,
   "metadata": {},
   "outputs": [],
   "source": [
    "EarningsCalendar = YahooEarningsCalendar()\n",
    "\n",
    "StartDate =datetime.now()\n",
    "EndDate = datetime(datetime.now().date().year, 12, 31)"
   ]
  },
  {
   "cell_type": "markdown",
   "metadata": {},
   "source": [
    "## Download Earning Announcements from Yahoo"
   ]
  },
  {
   "cell_type": "code",
   "execution_count": null,
   "metadata": {},
   "outputs": [],
   "source": [
    "earnings_list = EarningsCalendar.earnings_between(StartDate,EndDate)"
   ]
  },
  {
   "cell_type": "code",
   "execution_count": null,
   "metadata": {},
   "outputs": [],
   "source": [
    "Cal = pd.DataFrame(earnings_list)"
   ]
  },
  {
   "cell_type": "code",
   "execution_count": null,
   "metadata": {},
   "outputs": [],
   "source": [
    "Cal.to_csv('AllEarningAnnouncements.csv')"
   ]
  },
  {
   "cell_type": "markdown",
   "metadata": {},
   "source": [
    "## Create Custom Calendar\n",
    "Now that we have all the data that we need, the next step is to filter the calendar to only show those Stocks in our portfolio.\n",
    "\n",
    "### Time of Announcement\n",
    "BMO = Before Market Opens\n",
    "\n",
    "AMC = After Market Close\n",
    "\n",
    "TAS/TNS = time not specified. \n"
   ]
  },
  {
   "cell_type": "code",
   "execution_count": null,
   "metadata": {
    "scrolled": false
   },
   "outputs": [],
   "source": [
    "Cal = pd.read_csv('AllEarningAnnouncements.csv')\n",
    "portfolio_tickers = ['PG','TSLA','MSFT']\n",
    "MyCal = Cal[Cal['ticker'].isin(portfolio_tickers)]\n"
   ]
  },
  {
   "cell_type": "code",
   "execution_count": null,
   "metadata": {},
   "outputs": [],
   "source": [
    "c = Calendar()\n",
    "e= Event()\n",
    "with open(\"EarningsCal.ics\",\"a\") as file:\n",
    "    file.write(\"BEGIN:VCALENDAR\\n\")\n",
    "    file.write(\"VERSION:2.0\\n\")\n",
    "    for i, row in MyCal.iterrows():\n",
    "            e.name = MyCal['ticker'][i]+ ' Earnings Announcement'\n",
    "            e.begin = MyCal['startdatetime'][i]\n",
    "            e.description = MyCal['startdatetimetype'][i]\n",
    "            file.write(str(e)+'\\n')\n",
    "    file.write(\"END:VCALENDAR\")\n"
   ]
  },
  {
   "cell_type": "code",
   "execution_count": null,
   "metadata": {},
   "outputs": [],
   "source": []
  }
 ],
 "metadata": {
  "kernelspec": {
   "display_name": "Python 3",
   "language": "python",
   "name": "python3"
  },
  "language_info": {
   "codemirror_mode": {
    "name": "ipython",
    "version": 3
   },
   "file_extension": ".py",
   "mimetype": "text/x-python",
   "name": "python",
   "nbconvert_exporter": "python",
   "pygments_lexer": "ipython3",
   "version": "3.8.3"
  }
 },
 "nbformat": 4,
 "nbformat_minor": 2
}
